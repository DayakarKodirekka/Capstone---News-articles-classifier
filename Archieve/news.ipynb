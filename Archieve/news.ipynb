{
 "cells": [
  {
   "cell_type": "code",
   "execution_count": 1,
   "metadata": {},
   "outputs": [
    {
     "name": "stdout",
     "output_type": "stream",
     "text": [
      "Collecting newspaper3k\n",
      "  Downloading newspaper3k-0.2.8-py3-none-any.whl (211 kB)\n",
      "Collecting nltk>=3.2.1\n",
      "  Downloading nltk-3.6.5-py3-none-any.whl (1.5 MB)\n",
      "Collecting feedparser>=5.2.1\n",
      "  Downloading feedparser-6.0.8-py3-none-any.whl (81 kB)\n",
      "Requirement already satisfied: beautifulsoup4>=4.4.1 in c:\\users\\vinci\\appdata\\local\\programs\\python\\python39\\lib\\site-packages (from newspaper3k) (4.10.0)\n",
      "Requirement already satisfied: requests>=2.10.0 in c:\\users\\vinci\\appdata\\local\\programs\\python\\python39\\lib\\site-packages (from newspaper3k) (2.25.1)\n",
      "Collecting tinysegmenter==0.3\n",
      "  Downloading tinysegmenter-0.3.tar.gz (16 kB)\n",
      "  Preparing metadata (setup.py): started\n",
      "  Preparing metadata (setup.py): finished with status 'done'\n",
      "Collecting PyYAML>=3.11\n",
      "  Using cached PyYAML-6.0-cp39-cp39-win_amd64.whl (151 kB)\n",
      "Collecting lxml>=3.6.0\n",
      "  Downloading lxml-4.6.3-cp39-cp39-win_amd64.whl (3.5 MB)\n",
      "Collecting feedfinder2>=0.0.4\n",
      "  Downloading feedfinder2-0.0.4.tar.gz (3.3 kB)\n",
      "  Preparing metadata (setup.py): started\n",
      "  Preparing metadata (setup.py): finished with status 'done'\n",
      "Requirement already satisfied: python-dateutil>=2.5.3 in c:\\users\\vinci\\appdata\\local\\programs\\python\\python39\\lib\\site-packages (from newspaper3k) (2.8.1)\n",
      "Collecting jieba3k>=0.35.1\n",
      "  Downloading jieba3k-0.35.1.zip (7.4 MB)\n",
      "  Preparing metadata (setup.py): started\n",
      "  Preparing metadata (setup.py): finished with status 'done'\n",
      "Collecting cssselect>=0.9.2\n",
      "  Downloading cssselect-1.1.0-py2.py3-none-any.whl (16 kB)\n",
      "Collecting tldextract>=2.0.1\n",
      "  Downloading tldextract-3.1.2-py2.py3-none-any.whl (87 kB)\n",
      "Requirement already satisfied: Pillow>=3.3.0 in c:\\users\\vinci\\appdata\\local\\programs\\python\\python39\\lib\\site-packages (from newspaper3k) (8.3.1)\n",
      "Requirement already satisfied: soupsieve>1.2 in c:\\users\\vinci\\appdata\\local\\programs\\python\\python39\\lib\\site-packages (from beautifulsoup4>=4.4.1->newspaper3k) (2.2.1)\n",
      "Requirement already satisfied: six in c:\\users\\vinci\\appdata\\local\\programs\\python\\python39\\lib\\site-packages (from feedfinder2>=0.0.4->newspaper3k) (1.16.0)\n",
      "Collecting sgmllib3k\n",
      "  Downloading sgmllib3k-1.0.0.tar.gz (5.8 kB)\n",
      "  Preparing metadata (setup.py): started\n",
      "  Preparing metadata (setup.py): finished with status 'done'\n",
      "Collecting tqdm\n",
      "  Downloading tqdm-4.62.3-py2.py3-none-any.whl (76 kB)\n",
      "Requirement already satisfied: joblib in c:\\users\\vinci\\appdata\\local\\programs\\python\\python39\\lib\\site-packages (from nltk>=3.2.1->newspaper3k) (1.0.1)\n",
      "Requirement already satisfied: click in c:\\users\\vinci\\appdata\\local\\programs\\python\\python39\\lib\\site-packages (from nltk>=3.2.1->newspaper3k) (7.1.2)\n",
      "Collecting regex>=2021.8.3\n",
      "  Downloading regex-2021.10.23-cp39-cp39-win_amd64.whl (273 kB)\n",
      "Requirement already satisfied: chardet<5,>=3.0.2 in c:\\users\\vinci\\appdata\\local\\programs\\python\\python39\\lib\\site-packages (from requests>=2.10.0->newspaper3k) (4.0.0)\n",
      "Requirement already satisfied: idna<3,>=2.5 in c:\\users\\vinci\\appdata\\local\\programs\\python\\python39\\lib\\site-packages (from requests>=2.10.0->newspaper3k) (2.10)\n",
      "Requirement already satisfied: certifi>=2017.4.17 in c:\\users\\vinci\\appdata\\local\\programs\\python\\python39\\lib\\site-packages (from requests>=2.10.0->newspaper3k) (2021.5.30)\n",
      "Requirement already satisfied: urllib3<1.27,>=1.21.1 in c:\\users\\vinci\\appdata\\local\\programs\\python\\python39\\lib\\site-packages (from requests>=2.10.0->newspaper3k) (1.26.6)\n",
      "Collecting filelock>=3.0.8\n",
      "  Downloading filelock-3.3.2-py3-none-any.whl (9.7 kB)\n",
      "Collecting requests-file>=1.4\n",
      "  Downloading requests_file-1.5.1-py2.py3-none-any.whl (3.7 kB)\n",
      "Requirement already satisfied: colorama in c:\\users\\vinci\\appdata\\local\\programs\\python\\python39\\lib\\site-packages (from tqdm->nltk>=3.2.1->newspaper3k) (0.4.4)\n",
      "Using legacy 'setup.py install' for tinysegmenter, since package 'wheel' is not installed.\n",
      "Using legacy 'setup.py install' for feedfinder2, since package 'wheel' is not installed.\n",
      "Using legacy 'setup.py install' for jieba3k, since package 'wheel' is not installed.\n",
      "Using legacy 'setup.py install' for sgmllib3k, since package 'wheel' is not installed.\n",
      "Installing collected packages: tqdm, sgmllib3k, requests-file, regex, filelock, tldextract, tinysegmenter, PyYAML, nltk, lxml, jieba3k, feedparser, feedfinder2, cssselect, newspaper3k\n",
      "    Running setup.py install for sgmllib3k: started\n",
      "    Running setup.py install for sgmllib3k: finished with status 'done'\n",
      "    Running setup.py install for tinysegmenter: started\n",
      "    Running setup.py install for tinysegmenter: finished with status 'done'\n",
      "    Running setup.py install for jieba3k: started\n",
      "    Running setup.py install for jieba3k: finished with status 'done'\n",
      "    Running setup.py install for feedfinder2: started\n",
      "    Running setup.py install for feedfinder2: finished with status 'done'\n",
      "Successfully installed PyYAML-6.0 cssselect-1.1.0 feedfinder2-0.0.4 feedparser-6.0.8 filelock-3.3.2 jieba3k-0.35.1 lxml-4.6.3 newspaper3k-0.2.8 nltk-3.6.5 regex-2021.10.23 requests-file-1.5.1 sgmllib3k-1.0.0 tinysegmenter-0.3 tldextract-3.1.2 tqdm-4.62.3\n"
     ]
    }
   ],
   "source": [
    "!pip install newspaper3k"
   ]
  },
  {
   "cell_type": "code",
   "execution_count": 3,
   "metadata": {},
   "outputs": [
    {
     "name": "stderr",
     "output_type": "stream",
     "text": [
      "[nltk_data] Downloading package punkt to\n",
      "[nltk_data]     C:\\Users\\vinci\\AppData\\Roaming\\nltk_data...\n",
      "[nltk_data]   Package punkt is already up-to-date!\n"
     ]
    }
   ],
   "source": [
    "import nltk\n",
    "nltk.download('punkt')\n",
    "from newspaper import Article\n",
    "def get_article_summary(url):\n",
    "    try:\n",
    "        article = Article(url, language=\"en\") # en for English\n",
    "\n",
    "        #To download the article\n",
    "        article.download()\n",
    "\n",
    "        #To parse the article\n",
    "        article.parse()\n",
    "        #print(article.text)\n",
    "        # #To perform natural language processing ie..nlp\n",
    "        article.nlp()\n",
    "\n",
    "        #To extract summary\n",
    "        print(\"extracting summary\")\n",
    "        arti_summary=article.summary\n",
    "        return arti_summary\n",
    "    except Exception as e:\n",
    "        print(\"Enter Valid URL\")\n",
    "        return \"\""
   ]
  },
  {
   "cell_type": "code",
   "execution_count": 4,
   "metadata": {},
   "outputs": [],
   "source": [
    "# url = \"https://edition.cnn.com/2021/09/12/business/disney-movies-theater-2021/index.html \"\n",
    "url=\"https://timesofindia.indiatimes.com/india/india-to-make-5-billion-vaccine-doses-by-2022-pm-modi-at-g20-summit/articleshow/87404686.cms\"\n",
    "# url=\" This article details about http\""
   ]
  },
  {
   "cell_type": "code",
   "execution_count": 5,
   "metadata": {},
   "outputs": [
    {
     "data": {
      "text/plain": [
       "'https://timesofindia.indiatimes.com/india/india-to-make-5-billion-vaccine-doses-by-2022-pm-modi-at-g20-summit/articleshow/87404686.cms'"
      ]
     },
     "execution_count": 5,
     "metadata": {},
     "output_type": "execute_result"
    }
   ],
   "source": [
    "url"
   ]
  },
  {
   "cell_type": "code",
   "execution_count": 6,
   "metadata": {},
   "outputs": [
    {
     "name": "stdout",
     "output_type": "stream",
     "text": [
      "extracting summary\n",
      "https://t.co/YsQHpl7bMk — PMO India (@PMOIndia) 1635601537000A fruitful meeting between Prime Ministers @narendramodi and @leehsienloong in Rome.\n",
      "Modi also pushed for recognition of vaccine certificates to facilitate international travel to move the world towards normalcy.Shringla said Modi highlighted the fact that India has extended assistance to about 150 countries during the pandemic.\n",
      "Shringla said, Modi on Saturday had two formal bilateral meetings — with President Emmanuel Macron of France and Prime Minister Lee Hsien Loong of Singapore.Shringla said Modi told Macron that France plays an important role in the Indo-Pacific.\n",
      "In this context, PM Modi appreciated Singapore’s outreach to provide Covid assistance to India during the second wave.\n",
      "Prime Minister Lee congratulated the Prime Minister for the rapid vaccination drive in India,” the MEA statement said.PM Modi has had a special regard for Singapore and often spoken highly of Lee’s faither Lee Kuan Yew.\n"
     ]
    }
   ],
   "source": [
    "url=url.strip()\n",
    "if \"http\" in url and len(url.split()) <2:\n",
    "    text=get_article_summary(url)\n",
    "else:\n",
    "    text=url\n",
    "print(text)"
   ]
  },
  {
   "cell_type": "code",
   "execution_count": null,
   "metadata": {},
   "outputs": [],
   "source": []
  }
 ],
 "metadata": {
  "interpreter": {
   "hash": "c70108a9264f12b05176925baff08ac46d14ebbee0c3301f86523e4c17304393"
  },
  "kernelspec": {
   "display_name": "Python 3.9.6 64-bit",
   "name": "python3"
  },
  "language_info": {
   "codemirror_mode": {
    "name": "ipython",
    "version": 3
   },
   "file_extension": ".py",
   "mimetype": "text/x-python",
   "name": "python",
   "nbconvert_exporter": "python",
   "pygments_lexer": "ipython3",
   "version": "3.9.6"
  }
 },
 "nbformat": 4,
 "nbformat_minor": 2
}
