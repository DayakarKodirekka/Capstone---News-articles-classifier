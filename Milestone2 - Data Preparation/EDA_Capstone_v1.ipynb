{
  "nbformat": 4,
  "nbformat_minor": 0,
  "metadata": {
    "colab": {
      "name": "EDA_Capstone_v1",
      "provenance": [],
      "collapsed_sections": []
    },
    "kernelspec": {
      "name": "python3",
      "display_name": "Python 3"
    },
    "language_info": {
      "name": "python"
    }
  },
  "cells": [
    {
      "cell_type": "markdown",
      "metadata": {
        "id": "gLMFxLBWzb41"
      },
      "source": [
        "# Milestone 2\n",
        " * Install python mongodb connectors for connecting with Pyspark\n",
        "    * !pip3 install pymongo[srv]\n",
        "    * !pip3 install Pyspark\n",
        "    * !pip3 install mlflow\n",
        "\n",
        "* Load the data from mongodb\n",
        "* Perform EDA to study the data\n",
        "* Select the relevant columns for modeling\n",
        "* Split the data for train and test \n",
        "* Model the data with different algorithms\n",
        "* Evaluate the models and select the best performing and optimized model\n",
        "* Save the model using pyfunc/mlflow "
      ]
    },
    {
      "cell_type": "markdown",
      "metadata": {
        "id": "w28PJBuE4C9N"
      },
      "source": [
        "# Data Loading"
      ]
    },
    {
      "cell_type": "code",
      "metadata": {
        "id": "NfIGq3igUlTM"
      },
      "source": [
        "import pandas as pd"
      ],
      "execution_count": 25,
      "outputs": []
    },
    {
      "cell_type": "code",
      "metadata": {
        "id": "b7VfuwRMVQzw"
      },
      "source": [
        "df = pd.read_csv('news.csv')"
      ],
      "execution_count": 26,
      "outputs": []
    },
    {
      "cell_type": "code",
      "metadata": {
        "colab": {
          "base_uri": "https://localhost:8080/",
          "height": 202
        },
        "id": "W0fCmNhJVbmf",
        "outputId": "fe754a96-c061-48ae-c967-6b3f65a72f99"
      },
      "source": [
        "df.head()"
      ],
      "execution_count": 27,
      "outputs": [
        {
          "output_type": "execute_result",
          "data": {
            "text/html": [
              "<div>\n",
              "<style scoped>\n",
              "    .dataframe tbody tr th:only-of-type {\n",
              "        vertical-align: middle;\n",
              "    }\n",
              "\n",
              "    .dataframe tbody tr th {\n",
              "        vertical-align: top;\n",
              "    }\n",
              "\n",
              "    .dataframe thead th {\n",
              "        text-align: right;\n",
              "    }\n",
              "</style>\n",
              "<table border=\"1\" class=\"dataframe\">\n",
              "  <thead>\n",
              "    <tr style=\"text-align: right;\">\n",
              "      <th></th>\n",
              "      <th>title</th>\n",
              "      <th>summary</th>\n",
              "      <th>link</th>\n",
              "      <th>pub_date</th>\n",
              "      <th>topic</th>\n",
              "    </tr>\n",
              "  </thead>\n",
              "  <tbody>\n",
              "    <tr>\n",
              "      <th>0</th>\n",
              "      <td>Elon Musk: The THREE questions investors shoul...</td>\n",
              "      <td>Elon Musk, the billionaire CEO of electric car...</td>\n",
              "      <td>https://www.express.co.uk/finance/city/1503278...</td>\n",
              "      <td>08-10-2021 23:09</td>\n",
              "      <td>finance</td>\n",
              "    </tr>\n",
              "    <tr>\n",
              "      <th>1</th>\n",
              "      <td>Elon Musk Posts Puppy Floki In A Tesla, SHIB C...</td>\n",
              "      <td>A Twitter post of Elon Musk's Shiba Inu dog ha...</td>\n",
              "      <td>https://www.ibtimes.com/elon-musk-posts-puppy-...</td>\n",
              "      <td>04-10-2021 17:37</td>\n",
              "      <td>news</td>\n",
              "    </tr>\n",
              "    <tr>\n",
              "      <th>2</th>\n",
              "      <td>Cryptocurrency named after Elon Musk's dog sur...</td>\n",
              "      <td>Fans of Elon Musk made a cryptocurrency named ...</td>\n",
              "      <td>https://nypost.com/2021/10/06/cryptocurrency-n...</td>\n",
              "      <td>06-10-2021 15:28</td>\n",
              "      <td>news</td>\n",
              "    </tr>\n",
              "    <tr>\n",
              "      <th>3</th>\n",
              "      <td>Elon Musk says Tesla moving headquarters to Texas</td>\n",
              "      <td>Tesla chief Elon Musk says the company is movi...</td>\n",
              "      <td>https://www.news.com.au/breaking-news/elon-mus...</td>\n",
              "      <td>08-10-2021 02:23</td>\n",
              "      <td>news</td>\n",
              "    </tr>\n",
              "    <tr>\n",
              "      <th>4</th>\n",
              "      <td>Grimes Trolls Paparazzi with Communist Manifes...</td>\n",
              "      <td>Grimes, Elon Musks Ex was spotted on the stree...</td>\n",
              "      <td>https://www.yahoo.com/entertainment/grimes-tro...</td>\n",
              "      <td>03-10-2021 22:29</td>\n",
              "      <td>entertainment</td>\n",
              "    </tr>\n",
              "  </tbody>\n",
              "</table>\n",
              "</div>"
            ],
            "text/plain": [
              "                                               title  ...          topic\n",
              "0  Elon Musk: The THREE questions investors shoul...  ...        finance\n",
              "1  Elon Musk Posts Puppy Floki In A Tesla, SHIB C...  ...           news\n",
              "2  Cryptocurrency named after Elon Musk's dog sur...  ...           news\n",
              "3  Elon Musk says Tesla moving headquarters to Texas  ...           news\n",
              "4  Grimes Trolls Paparazzi with Communist Manifes...  ...  entertainment\n",
              "\n",
              "[5 rows x 5 columns]"
            ]
          },
          "metadata": {},
          "execution_count": 27
        }
      ]
    },
    {
      "cell_type": "code",
      "metadata": {
        "colab": {
          "base_uri": "https://localhost:8080/"
        },
        "id": "LvK0wLjgVdNf",
        "outputId": "1435f0ce-8706-4fdf-9c7a-f2fe93a78721"
      },
      "source": [
        "df['topic'].count()"
      ],
      "execution_count": 28,
      "outputs": [
        {
          "output_type": "execute_result",
          "data": {
            "text/plain": [
              "25"
            ]
          },
          "metadata": {},
          "execution_count": 28
        }
      ]
    },
    {
      "cell_type": "code",
      "metadata": {
        "colab": {
          "base_uri": "https://localhost:8080/"
        },
        "id": "X5VAzcQcVimA",
        "outputId": "535efef8-6e73-4b74-f0ca-157e0e2aae6e"
      },
      "source": [
        "df['topic'].value_counts()"
      ],
      "execution_count": 29,
      "outputs": [
        {
          "output_type": "execute_result",
          "data": {
            "text/plain": [
              "news             18\n",
              "tech              2\n",
              "business          2\n",
              "finance           1\n",
              "science           1\n",
              "entertainment     1\n",
              "Name: topic, dtype: int64"
            ]
          },
          "metadata": {},
          "execution_count": 29
        }
      ]
    },
    {
      "cell_type": "code",
      "metadata": {
        "colab": {
          "base_uri": "https://localhost:8080/"
        },
        "id": "Wfk7L_ppVpfX",
        "outputId": "6e5378b4-3a53-44d3-e2e3-57c08f0f61f0"
      },
      "source": [
        "pip install pyspark"
      ],
      "execution_count": 6,
      "outputs": [
        {
          "output_type": "stream",
          "name": "stdout",
          "text": [
            "Collecting pyspark\n",
            "  Downloading pyspark-3.1.2.tar.gz (212.4 MB)\n",
            "\u001b[K     |████████████████████████████████| 212.4 MB 65 kB/s \n",
            "\u001b[?25hCollecting py4j==0.10.9\n",
            "  Downloading py4j-0.10.9-py2.py3-none-any.whl (198 kB)\n",
            "\u001b[K     |████████████████████████████████| 198 kB 47.7 MB/s \n",
            "\u001b[?25hBuilding wheels for collected packages: pyspark\n",
            "  Building wheel for pyspark (setup.py) ... \u001b[?25l\u001b[?25hdone\n",
            "  Created wheel for pyspark: filename=pyspark-3.1.2-py2.py3-none-any.whl size=212880768 sha256=4096e1b791805551942b5117e36737f3d24a7d137652673d5c5182aec01ddcbe\n",
            "  Stored in directory: /root/.cache/pip/wheels/a5/0a/c1/9561f6fecb759579a7d863dcd846daaa95f598744e71b02c77\n",
            "Successfully built pyspark\n",
            "Installing collected packages: py4j, pyspark\n",
            "Successfully installed py4j-0.10.9 pyspark-3.1.2\n"
          ]
        }
      ]
    },
    {
      "cell_type": "code",
      "metadata": {
        "id": "m1kKI--kWrTF"
      },
      "source": [
        "from pyspark.context import SparkContext\n",
        "from pyspark.sql.session import SparkSession\n",
        "sc = SparkContext('local')\n",
        "spark = SparkSession(sc)"
      ],
      "execution_count": 8,
      "outputs": []
    },
    {
      "cell_type": "code",
      "metadata": {
        "id": "yo7qGbykXEpG"
      },
      "source": [
        "# Pandas to Spark\n",
        "train_df = spark.createDataFrame(df)"
      ],
      "execution_count": 30,
      "outputs": []
    },
    {
      "cell_type": "code",
      "metadata": {
        "id": "IRvugfp5aCzQ"
      },
      "source": [
        "df['label'] = df['topic']"
      ],
      "execution_count": 19,
      "outputs": []
    },
    {
      "cell_type": "code",
      "metadata": {
        "id": "roGJYOPYbujH"
      },
      "source": [
        "df = df.drop('label')"
      ],
      "execution_count": null,
      "outputs": []
    },
    {
      "cell_type": "code",
      "metadata": {
        "colab": {
          "base_uri": "https://localhost:8080/"
        },
        "id": "1-Mb2aU7aJ1m",
        "outputId": "7d9f6b6b-0185-43c2-ff23-27ebb599d4f8"
      },
      "source": [
        "train_df.columns"
      ],
      "execution_count": 31,
      "outputs": [
        {
          "output_type": "execute_result",
          "data": {
            "text/plain": [
              "['title', 'summary', 'link', 'pub_date', 'topic']"
            ]
          },
          "metadata": {},
          "execution_count": 31
        }
      ]
    },
    {
      "cell_type": "code",
      "metadata": {
        "id": "LfnhYZlrXMT8"
      },
      "source": [
        "from pyspark.ml import Pipeline\n",
        "from pyspark.ml.classification import LogisticRegression\n",
        "from pyspark.ml.feature import HashingTF, Tokenizer\n",
        "tokenizer = Tokenizer(inputCol=\"summary\", outputCol=\"words\")\n",
        "hashingTF = HashingTF(inputCol=tokenizer.getOutputCol(), outputCol=\"features\")\n",
        "lr = LogisticRegression(maxIter=10, regParam=0.001)\n",
        "pipeline = Pipeline(stages=[tokenizer, hashingTF, lr])\n",
        "model = pipeline.fit(train_df)\n",
        "mlflow.spark.log_model(model, \"spark-model\")"
      ],
      "execution_count": null,
      "outputs": []
    },
    {
      "cell_type": "markdown",
      "metadata": {
        "id": "wQEAIQ-ee-78"
      },
      "source": [
        "#Model Pipeline\n",
        "regexTokenizer: Tokenization (with Regular Expression)\n",
        "stopwordsRemover: Remove Stop Words\n",
        "countVectors: Count vectors (“document-term vectors”)"
      ]
    },
    {
      "cell_type": "code",
      "metadata": {
        "id": "6RDfuCybXqae"
      },
      "source": [
        "from pyspark.ml.feature import RegexTokenizer, StopWordsRemover, CountVectorizer\n",
        "from pyspark.ml.classification import LogisticRegression\n",
        "# regular expression tokenizer\n",
        "regexTokenizer = RegexTokenizer(inputCol=\"summary\", outputCol=\"words\", pattern=\"\\\\W\")\n",
        "# stop words\n",
        "add_stopwords = [\"http\",\"https\",\"amp\",\"rt\",\"t\",\"c\",\"the\"] \n",
        "stopwordsRemover = StopWordsRemover(inputCol=\"words\", outputCol=\"filtered\").setStopWords(add_stopwords)\n",
        "# bag of words count\n",
        "countVectors = CountVectorizer(inputCol=\"filtered\", outputCol=\"features\", vocabSize=10000, minDF=5)"
      ],
      "execution_count": 32,
      "outputs": []
    },
    {
      "cell_type": "code",
      "metadata": {
        "colab": {
          "base_uri": "https://localhost:8080/"
        },
        "id": "qlLjf9uBblF_",
        "outputId": "5f6ffa93-5e1a-44a4-ecc4-746e1c334933"
      },
      "source": [
        "from pyspark.ml import Pipeline\n",
        "from pyspark.ml.feature import OneHotEncoder, StringIndexer, VectorAssembler\n",
        "label_stringIdx = StringIndexer(inputCol = \"topic\", outputCol = \"label\")\n",
        "pipeline = Pipeline(stages=[regexTokenizer, stopwordsRemover, countVectors, label_stringIdx])\n",
        "# Fit the pipeline to training documents.\n",
        "pipelineFit = pipeline.fit(train_df)\n",
        "dataset = pipelineFit.transform(train_df)\n",
        "dataset.show(5)"
      ],
      "execution_count": 33,
      "outputs": [
        {
          "output_type": "stream",
          "name": "stdout",
          "text": [
            "+--------------------+--------------------+--------------------+----------------+-------------+--------------------+--------------------+--------------------+-----+\n",
            "|               title|             summary|                link|        pub_date|        topic|               words|            filtered|            features|label|\n",
            "+--------------------+--------------------+--------------------+----------------+-------------+--------------------+--------------------+--------------------+-----+\n",
            "|Elon Musk: The TH...|Elon Musk, the bi...|https://www.expre...|08-10-2021 23:09|      finance|[elon, musk, the,...|[elon, musk, bill...|(67,[0,1,2,3,5,6,...|  4.0|\n",
            "|Elon Musk Posts P...|A Twitter post of...|https://www.ibtim...|04-10-2021 17:37|         news|[a, twitter, post...|[a, twitter, post...|(67,[0,1,2,3,4,5,...|  0.0|\n",
            "|Cryptocurrency na...|Fans of Elon Musk...|https://nypost.co...|06-10-2021 15:28|         news|[fans, of, elon, ...|[fans, of, elon, ...|(67,[0,1,2,3,4,5,...|  0.0|\n",
            "|Elon Musk says Te...|Tesla chief Elon ...|https://www.news....|08-10-2021 02:23|         news|[tesla, chief, el...|[tesla, chief, el...|(67,[0,1,2,5,7,9,...|  0.0|\n",
            "|Grimes Trolls Pap...|Grimes, Elon Musk...|https://www.yahoo...|03-10-2021 22:29|entertainment|[grimes, elon, mu...|[grimes, elon, mu...|(67,[0,1,3,4,5,6,...|  3.0|\n",
            "+--------------------+--------------------+--------------------+----------------+-------------+--------------------+--------------------+--------------------+-----+\n",
            "only showing top 5 rows\n",
            "\n"
          ]
        }
      ]
    },
    {
      "cell_type": "code",
      "metadata": {
        "colab": {
          "base_uri": "https://localhost:8080/"
        },
        "id": "ZTrNxeQtc4hS",
        "outputId": "18593122-487c-4ef4-fc42-6b1520ec3b18"
      },
      "source": [
        "# set seed for reproducibility\n",
        "(trainingData, testData) = dataset.randomSplit([0.7, 0.3], seed = 100)\n",
        "print(\"Training Dataset Count: \" + str(trainingData.count()))\n",
        "print(\"Test Dataset Count: \" + str(testData.count()))"
      ],
      "execution_count": 34,
      "outputs": [
        {
          "output_type": "stream",
          "name": "stdout",
          "text": [
            "Training Dataset Count: 18\n",
            "Test Dataset Count: 7\n"
          ]
        }
      ]
    },
    {
      "cell_type": "code",
      "metadata": {
        "colab": {
          "base_uri": "https://localhost:8080/"
        },
        "id": "lOBrzN0fdQo2",
        "outputId": "191ecaa9-8931-4cea-9985-d8c17be777ea"
      },
      "source": [
        "lr = LogisticRegression(maxIter=20, regParam=0.3, elasticNetParam=0)\n",
        "lrModel = lr.fit(trainingData)\n",
        "predictions = lrModel.transform(testData)\n",
        "predictions.filter(predictions['prediction'] == 0) \\\n",
        "    .select(\"summary\",\"topic\",\"probability\",\"label\",\"prediction\") \\\n",
        "    .orderBy(\"probability\", ascending=False) \\\n",
        "    .show(n = 10, truncate = 30)"
      ],
      "execution_count": 35,
      "outputs": [
        {
          "output_type": "stream",
          "name": "stdout",
          "text": [
            "+------------------------------+--------+------------------------------+-----+----------+\n",
            "|                       summary|   topic|                   probability|label|prediction|\n",
            "+------------------------------+--------+------------------------------+-----+----------+\n",
            "|The era of dog-related cryp...|    news|[0.9354890025075915,0.00786...|  0.0|       0.0|\n",
            "|Elon Musk, the billionaire ...| finance|[0.906509831922795,0.016388...|  4.0|       0.0|\n",
            "|Grimes said she 'trolled' p...|business|[0.8462419435483275,0.00517...|  1.0|       0.0|\n",
            "|Grimes and Tesla CEO Elon M...|    news|[0.7936617355502473,0.01619...|  0.0|       0.0|\n",
            "|These truly weird photos of...|    news|[0.769110918417554,0.020765...|  0.0|       0.0|\n",
            "|After making electric cars ...|    news|[0.6811122539162373,0.02365...|  0.0|       0.0|\n",
            "+------------------------------+--------+------------------------------+-----+----------+\n",
            "\n"
          ]
        }
      ]
    },
    {
      "cell_type": "code",
      "metadata": {
        "colab": {
          "base_uri": "https://localhost:8080/"
        },
        "id": "dag6q5w5dUfo",
        "outputId": "d9a4d2d3-82e5-47a6-bbe6-e800a1499a18"
      },
      "source": [
        "from pyspark.ml.evaluation import MulticlassClassificationEvaluator\n",
        "evaluator = MulticlassClassificationEvaluator(predictionCol=\"prediction\")\n",
        "evaluator.evaluate(predictions)"
      ],
      "execution_count": 36,
      "outputs": [
        {
          "output_type": "execute_result",
          "data": {
            "text/plain": [
              "0.5194805194805194"
            ]
          },
          "metadata": {},
          "execution_count": 36
        }
      ]
    },
    {
      "cell_type": "markdown",
      "metadata": {
        "id": "IVe-TfI5diOs"
      },
      "source": [
        "#Logistic Regression using TF-IDF Features"
      ]
    },
    {
      "cell_type": "code",
      "metadata": {
        "colab": {
          "base_uri": "https://localhost:8080/"
        },
        "id": "OEuPbz8Wdecf",
        "outputId": "330d66f3-21d7-4dfc-b4a2-578926a91348"
      },
      "source": [
        "from pyspark.ml.feature import HashingTF, IDF\n",
        "hashingTF = HashingTF(inputCol=\"filtered\", outputCol=\"rawFeatures\", numFeatures=10000)\n",
        "idf = IDF(inputCol=\"rawFeatures\", outputCol=\"features\", minDocFreq=5) #minDocFreq: remove sparse terms\n",
        "pipeline = Pipeline(stages=[regexTokenizer, stopwordsRemover, hashingTF, idf, label_stringIdx])\n",
        "pipelineFit = pipeline.fit(train_df)\n",
        "dataset = pipelineFit.transform(train_df)\n",
        "(trainingData, testData) = dataset.randomSplit([0.7, 0.3], seed = 100)\n",
        "lr = LogisticRegression(maxIter=20, regParam=0.3, elasticNetParam=0)\n",
        "lrModel = lr.fit(trainingData)\n",
        "predictions = lrModel.transform(testData)\n",
        "predictions.filter(predictions['prediction'] == 0) \\\n",
        "    .select(\"summary\",\"topic\",\"probability\",\"label\",\"prediction\") \\\n",
        "    .orderBy(\"probability\", ascending=False) \\\n",
        "    .show(n = 10, truncate = 30)"
      ],
      "execution_count": 38,
      "outputs": [
        {
          "output_type": "stream",
          "name": "stdout",
          "text": [
            "+------------------------------+--------+------------------------------+-----+----------+\n",
            "|                       summary|   topic|                   probability|label|prediction|\n",
            "+------------------------------+--------+------------------------------+-----+----------+\n",
            "|The era of dog-related cryp...|    news|[0.9494596589517151,0.00554...|  0.0|       0.0|\n",
            "|Elon Musk, the billionaire ...| finance|[0.8906003112018421,0.01642...|  4.0|       0.0|\n",
            "|Grimes said she 'trolled' p...|business|[0.8350511863500334,0.00531...|  1.0|       0.0|\n",
            "|Grimes and Tesla CEO Elon M...|    news|[0.7776767263527842,0.01514...|  0.0|       0.0|\n",
            "|After making electric cars ...|    news|[0.7251769168395397,0.01917...|  0.0|       0.0|\n",
            "|These truly weird photos of...|    news|[0.6604150825002939,0.02026...|  0.0|       0.0|\n",
            "+------------------------------+--------+------------------------------+-----+----------+\n",
            "\n"
          ]
        }
      ]
    },
    {
      "cell_type": "code",
      "metadata": {
        "colab": {
          "base_uri": "https://localhost:8080/"
        },
        "id": "6LiVWYZ0d288",
        "outputId": "1bed7f9a-e288-4424-9a9b-29714a7373e9"
      },
      "source": [
        "evaluator = MulticlassClassificationEvaluator(predictionCol=\"prediction\")\n",
        "evaluator.evaluate(predictions)"
      ],
      "execution_count": 39,
      "outputs": [
        {
          "output_type": "execute_result",
          "data": {
            "text/plain": [
              "0.5194805194805194"
            ]
          },
          "metadata": {},
          "execution_count": 39
        }
      ]
    },
    {
      "cell_type": "markdown",
      "metadata": {
        "id": "fHRaIGr5d_O9"
      },
      "source": [
        "#Cross-Validation"
      ]
    },
    {
      "cell_type": "code",
      "metadata": {
        "colab": {
          "base_uri": "https://localhost:8080/"
        },
        "id": "_D-J471Jd71K",
        "outputId": "48c61f97-17f8-45fa-9495-7124a941c30b"
      },
      "source": [
        "pipeline = Pipeline(stages=[regexTokenizer, stopwordsRemover, countVectors, label_stringIdx])\n",
        "pipelineFit = pipeline.fit(train_df)\n",
        "dataset = pipelineFit.transform(train_df)\n",
        "(trainingData, testData) = dataset.randomSplit([0.7, 0.3], seed = 100)\n",
        "lr = LogisticRegression(maxIter=20, regParam=0.3, elasticNetParam=0)\n",
        "from pyspark.ml.tuning import ParamGridBuilder, CrossValidator\n",
        "# Create ParamGrid for Cross Validation\n",
        "paramGrid = (ParamGridBuilder()\n",
        "             .addGrid(lr.regParam, [0.1, 0.3, 0.5]) # regularization parameter\n",
        "             .addGrid(lr.elasticNetParam, [0.0, 0.1, 0.2]) # Elastic Net Parameter (Ridge = 0)\n",
        "#            .addGrid(model.maxIter, [10, 20, 50]) #Number of iterations\n",
        "#            .addGrid(idf.numFeatures, [10, 100, 1000]) # Number of features\n",
        "             .build())\n",
        "# Create 5-fold CrossValidator\n",
        "cv = CrossValidator(estimator=lr, \\\n",
        "                    estimatorParamMaps=paramGrid, \\\n",
        "                    evaluator=evaluator, \\\n",
        "                    numFolds=5)\n",
        "cvModel = cv.fit(trainingData)\n",
        "\n",
        "predictions = cvModel.transform(testData)\n",
        "# Evaluate best model\n",
        "evaluator = MulticlassClassificationEvaluator(predictionCol=\"prediction\")\n",
        "evaluator.evaluate(predictions)"
      ],
      "execution_count": 40,
      "outputs": [
        {
          "output_type": "execute_result",
          "data": {
            "text/plain": [
              "0.5952380952380951"
            ]
          },
          "metadata": {},
          "execution_count": 40
        }
      ]
    },
    {
      "cell_type": "markdown",
      "metadata": {
        "id": "jNV6fFjfeNp6"
      },
      "source": [
        "#Naive bayes"
      ]
    },
    {
      "cell_type": "code",
      "metadata": {
        "colab": {
          "base_uri": "https://localhost:8080/"
        },
        "id": "LxGnzbUMeG3-",
        "outputId": "6d25a09f-13d1-4e6d-f41c-4c4d2f13ab33"
      },
      "source": [
        "from pyspark.ml.classification import NaiveBayes\n",
        "nb = NaiveBayes(smoothing=1)\n",
        "model = nb.fit(trainingData)\n",
        "predictions = model.transform(testData)\n",
        "predictions.filter(predictions['prediction'] == 0) \\\n",
        "    .select(\"summary\",\"topic\",\"probability\",\"label\",\"prediction\") \\\n",
        "    .orderBy(\"probability\", ascending=False) \\\n",
        "    .show(n = 10, truncate = 30)"
      ],
      "execution_count": null,
      "outputs": [
        {
          "output_type": "stream",
          "name": "stdout",
          "text": [
            "+------------------------------+-------+------------------------------+-----+----------+\n",
            "|                       summary|  topic|                   probability|label|prediction|\n",
            "+------------------------------+-------+------------------------------+-----+----------+\n",
            "|The era of dog-related cryp...|   news|[0.9999896012069359,9.52542...|  0.0|       0.0|\n",
            "|Elon Musk, the billionaire ...|finance|[0.9975052807878101,2.77499...|  4.0|       0.0|\n",
            "|Grimes and Tesla CEO Elon M...|   news|[0.8236860597259401,7.25249...|  0.0|       0.0|\n",
            "+------------------------------+-------+------------------------------+-----+----------+\n",
            "\n"
          ]
        }
      ]
    },
    {
      "cell_type": "code",
      "metadata": {
        "colab": {
          "base_uri": "https://localhost:8080/"
        },
        "id": "f8b5zieeedh2",
        "outputId": "f0b0150b-a85e-4884-89cd-972b6c743bae"
      },
      "source": [
        "evaluator = MulticlassClassificationEvaluator(predictionCol=\"prediction\")\n",
        "evaluator.evaluate(predictions)"
      ],
      "execution_count": null,
      "outputs": [
        {
          "output_type": "execute_result",
          "data": {
            "text/plain": [
              "0.35714285714285715"
            ]
          },
          "metadata": {},
          "execution_count": 47
        }
      ]
    },
    {
      "cell_type": "markdown",
      "metadata": {
        "id": "zV1PRJhKev3A"
      },
      "source": [
        "#Random Forest"
      ]
    },
    {
      "cell_type": "code",
      "metadata": {
        "colab": {
          "base_uri": "https://localhost:8080/"
        },
        "id": "1VCh3biBeg-4",
        "outputId": "444c229f-2b28-4a27-8bbe-3c39ec27f312"
      },
      "source": [
        "from pyspark.ml.classification import RandomForestClassifier\n",
        "rf = RandomForestClassifier(labelCol=\"label\", \\\n",
        "                            featuresCol=\"features\", \\\n",
        "                            numTrees = 100, \\\n",
        "                            maxDepth = 4, \\\n",
        "                            maxBins = 32)\n",
        "# Train model with Training Data\n",
        "rfModel = rf.fit(trainingData)\n",
        "predictions = rfModel.transform(testData)\n",
        "predictions.filter(predictions['prediction'] == 0) \\\n",
        "    .select(\"summary\",\"topic\",\"probability\",\"label\",\"prediction\") \\\n",
        "    .orderBy(\"probability\", ascending=False) \\\n",
        "    .show(n = 10, truncate = 30)"
      ],
      "execution_count": null,
      "outputs": [
        {
          "output_type": "stream",
          "name": "stdout",
          "text": [
            "+------------------------------+--------+------------------------------+-----+----------+\n",
            "|                       summary|   topic|                   probability|label|prediction|\n",
            "+------------------------------+--------+------------------------------+-----+----------+\n",
            "|Elon Musk, the billionaire ...| finance|[0.8975164835164835,0.01066...|  4.0|       0.0|\n",
            "|The era of dog-related cryp...|    news|[0.8512664835164835,0.02066...|  0.0|       0.0|\n",
            "|Grimes said she 'trolled' p...|business|[0.7022857142857142,0.00500...|  1.0|       0.0|\n",
            "|These truly weird photos of...|    news|[0.6731831501831502,0.05066...|  0.0|       0.0|\n",
            "|After making electric cars ...|    news|[0.6622664835164837,0.04066...|  0.0|       0.0|\n",
            "|Grimes and Tesla CEO Elon M...|    news|[0.6408498168498169,0.02,0....|  0.0|       0.0|\n",
            "|Photo: Getty ImagesPhoto: G...|    news|[0.47653571428571423,0.02,0...|  0.0|       0.0|\n",
            "+------------------------------+--------+------------------------------+-----+----------+\n",
            "\n"
          ]
        }
      ]
    },
    {
      "cell_type": "code",
      "metadata": {
        "colab": {
          "base_uri": "https://localhost:8080/"
        },
        "id": "YuXn_dxdekvC",
        "outputId": "217a985e-1531-4c94-ca0c-9a2fac41e420"
      },
      "source": [
        "evaluator = MulticlassClassificationEvaluator(predictionCol=\"prediction\")\n",
        "evaluator.evaluate(predictions)"
      ],
      "execution_count": null,
      "outputs": [
        {
          "output_type": "execute_result",
          "data": {
            "text/plain": [
              "0.5952380952380951"
            ]
          },
          "metadata": {},
          "execution_count": 50
        }
      ]
    },
    {
      "cell_type": "code",
      "metadata": {
        "id": "Kt2724UOeufq",
        "colab": {
          "base_uri": "https://localhost:8080/",
          "height": 238
        },
        "outputId": "df0aa179-a26a-4c2b-fcdb-fda0788a1d0c"
      },
      "source": [
        "import pickle\n",
        "\n",
        "#Pickle implementation for Linear Regression\n",
        "pickle.dump(lrModel, open('lr_model.pkl','wb'))\n",
        "# Loading model to compare the results\n",
        "model = pickle.load(open('lr_model.pkl','rb'))\n",
        "print(model)"
      ],
      "execution_count": 37,
      "outputs": [
        {
          "output_type": "error",
          "ename": "TypeError",
          "evalue": "ignored",
          "traceback": [
            "\u001b[0;31m---------------------------------------------------------------------------\u001b[0m",
            "\u001b[0;31mTypeError\u001b[0m                                 Traceback (most recent call last)",
            "\u001b[0;32m<ipython-input-37-a94dc1cc1377>\u001b[0m in \u001b[0;36m<module>\u001b[0;34m()\u001b[0m\n\u001b[1;32m      2\u001b[0m \u001b[0;34m\u001b[0m\u001b[0m\n\u001b[1;32m      3\u001b[0m \u001b[0;31m#Pickle implementation for Linear Regression\u001b[0m\u001b[0;34m\u001b[0m\u001b[0;34m\u001b[0m\u001b[0;34m\u001b[0m\u001b[0m\n\u001b[0;32m----> 4\u001b[0;31m \u001b[0mpickle\u001b[0m\u001b[0;34m.\u001b[0m\u001b[0mdump\u001b[0m\u001b[0;34m(\u001b[0m\u001b[0mlrModel\u001b[0m\u001b[0;34m,\u001b[0m \u001b[0mopen\u001b[0m\u001b[0;34m(\u001b[0m\u001b[0;34m'lr_model.pkl'\u001b[0m\u001b[0;34m,\u001b[0m\u001b[0;34m'wb'\u001b[0m\u001b[0;34m)\u001b[0m\u001b[0;34m)\u001b[0m\u001b[0;34m\u001b[0m\u001b[0;34m\u001b[0m\u001b[0m\n\u001b[0m\u001b[1;32m      5\u001b[0m \u001b[0;31m# Loading model to compare the results\u001b[0m\u001b[0;34m\u001b[0m\u001b[0;34m\u001b[0m\u001b[0;34m\u001b[0m\u001b[0m\n\u001b[1;32m      6\u001b[0m \u001b[0mmodel\u001b[0m \u001b[0;34m=\u001b[0m \u001b[0mpickle\u001b[0m\u001b[0;34m.\u001b[0m\u001b[0mload\u001b[0m\u001b[0;34m(\u001b[0m\u001b[0mopen\u001b[0m\u001b[0;34m(\u001b[0m\u001b[0;34m'lr_model.pkl'\u001b[0m\u001b[0;34m,\u001b[0m\u001b[0;34m'rb'\u001b[0m\u001b[0;34m)\u001b[0m\u001b[0;34m)\u001b[0m\u001b[0;34m\u001b[0m\u001b[0;34m\u001b[0m\u001b[0m\n",
            "\u001b[0;31mTypeError\u001b[0m: can't pickle _thread.RLock objects"
          ]
        }
      ]
    },
    {
      "cell_type": "code",
      "metadata": {
        "id": "e0dXWwU_IafH"
      },
      "source": [
        ""
      ],
      "execution_count": null,
      "outputs": []
    }
  ]
}