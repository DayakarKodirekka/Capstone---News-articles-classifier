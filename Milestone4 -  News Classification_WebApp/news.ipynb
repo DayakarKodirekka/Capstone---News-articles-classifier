{
 "cells": [
  {
   "cell_type": "code",
   "execution_count": null,
   "metadata": {},
   "outputs": [],
   "source": [
    "!pip install newspaper3k"
   ]
  },
  {
   "cell_type": "code",
   "execution_count": 25,
   "metadata": {},
   "outputs": [
    {
     "name": "stderr",
     "output_type": "stream",
     "text": [
      "[nltk_data] Downloading package punkt to\n",
      "[nltk_data]     C:\\Users\\KSindhu\\AppData\\Roaming\\nltk_data...\n",
      "[nltk_data]   Package punkt is already up-to-date!\n"
     ]
    }
   ],
   "source": [
    "import nltk\n",
    "nltk.download('punkt')\n",
    "from newspaper import Article\n",
    "def get_article_summary(url):\n",
    "    try:\n",
    "        article = Article(url, language=\"en\") # en for English\n",
    "\n",
    "        #To download the article\n",
    "        article.download()\n",
    "\n",
    "        #To parse the article\n",
    "        article.parse()\n",
    "        #print(article.text)\n",
    "        # #To perform natural language processing ie..nlp\n",
    "        article.nlp()\n",
    "\n",
    "        #To extract summary\n",
    "        print(\"extracting summary\")\n",
    "        arti_summary=article.summary\n",
    "        return arti_summary\n",
    "    except Exception as e:\n",
    "        print(\"Enter Valid URL\")\n",
    "        return \"\""
   ]
  },
  {
   "cell_type": "code",
   "execution_count": 21,
   "metadata": {},
   "outputs": [],
   "source": [
    "# url = \"https://edition.cnn.com/2021/09/12/business/disney-movies-theater-2021/index.html \"\n",
    "url=\"https://timesofindia.indiatimes.com/india/india-to-make-5-billion-vaccine-doses-by-2022-pm-modi-at-g20-summit/articleshow/87404686.cms\"\n",
    "# url=\" This article details about http\""
   ]
  },
  {
   "cell_type": "code",
   "execution_count": 22,
   "metadata": {},
   "outputs": [
    {
     "data": {
      "text/plain": [
       "'https://timesofindia.indiatimes.com/india/india-to-make-5-billion-vaccine-doses-by-2022-pm-modi-at-g20-summit/articleshow/87404686.cms'"
      ]
     },
     "execution_count": 22,
     "metadata": {},
     "output_type": "execute_result"
    }
   ],
   "source": [
    "url"
   ]
  },
  {
   "cell_type": "code",
   "execution_count": 26,
   "metadata": {},
   "outputs": [
    {
     "name": "stdout",
     "output_type": "stream",
     "text": [
      "Enter Valid URL\n",
      "\n"
     ]
    }
   ],
   "source": [
    "#url = \"http://timesofindia.indiatimes.com\"\n",
    "url=url.strip()\n",
    "if \"http\" in url and len(url.split()) <2:\n",
    "    text=get_article_summary(url)\n",
    "else:\n",
    "    text=url\n",
    "print(text)"
   ]
  },
  {
   "cell_type": "code",
   "execution_count": null,
   "metadata": {},
   "outputs": [],
   "source": []
  }
 ],
 "metadata": {
  "interpreter": {
   "hash": "98c0d4ccb042b70c2d17d51a151ffd44a1aae56dda351761f79fb3032653ddaf"
  },
  "kernelspec": {
   "display_name": "Python 3.9.5 64-bit",
   "name": "python3"
  },
  "language_info": {
   "codemirror_mode": {
    "name": "ipython",
    "version": 3
   },
   "file_extension": ".py",
   "mimetype": "text/x-python",
   "name": "python",
   "nbconvert_exporter": "python",
   "pygments_lexer": "ipython3",
   "version": "3.9.5"
  }
 },
 "nbformat": 4,
 "nbformat_minor": 2
}
